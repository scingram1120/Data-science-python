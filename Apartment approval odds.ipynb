{
 "cells": [
  {
   "cell_type": "code",
   "execution_count": null,
   "id": "7302376d",
   "metadata": {},
   "outputs": [
    {
     "name": "stdout",
     "output_type": "stream",
     "text": [
      "Thank you for using our rent qualification calculator\n",
      "Times are hard and we understand that you don't want to waste money is application and admin fees on a denied application.\n"
     ]
    }
   ],
   "source": [
    "##Welcome the user and store name<> lg\n",
    "print(\"Thank you for using our rent qualification calculator\")\n",
    "print(\"Times are hard and we understand that you don't want to waste money is application and admin fees on a denied application.\")\n",
    "name = input(\"That's why we're here! Tell us your name and we'll get started!\")\n",
    "print(\"Thank you\", name, \". We'll need to ask you a few questions next.\")\n"
   ]
  },
  {
   "cell_type": "code",
   "execution_count": null,
   "id": "418525c5",
   "metadata": {},
   "outputs": [],
   "source": [
    "##Ask for their proposed rent and store\n",
    "##Add in any estimated utilities and store \n",
    "##in a different variable for later\n",
    "print(\"First we'll need the rent for the apartment you're applying for\",name,\".\")\n",
    "Rent = int(input(\"Enter your rent: \"))\n",
    "\n",
    "while True:\n",
    "    if Rent < 0:\n",
    "        Rent = int(input(\"Enter your rent: \"))\n",
    "        \n",
    "rent_with_utilities = Rent + 200\n",
    "\n",
    "rent = Rent * 3"
   ]
  },
  {
   "cell_type": "code",
   "execution_count": null,
   "id": "121dab0b",
   "metadata": {},
   "outputs": [],
   "source": [
    "##Ask for monthly income and triple\n",
    "##store the variable for comparison\n",
    "print(\"Next, we'll need your GROSS income.\")\n",
    "income = int(input(\"Enter your gross income: \"))\n",
    "\n",
    "rental_income = income * 3 \n",
    "\n",
    "if rental_income < rent:\n",
    "    cosigner = input(\"Will be able to get a cosigner if needed? Yes or No only: \")"
   ]
  },
  {
   "cell_type": "code",
   "execution_count": null,
   "id": "60059c91",
   "metadata": {},
   "outputs": [],
   "source": [
    "##Ask for credit if credit is below 500 deny automatically\n",
    "##If credit is between 500-630 ask for first months rent\n",
    "#as a deposit for apporoval or cosigner\n",
    "print(\"We'll need your credit next.\")\n",
    "credit = int(input(\"Enter your credit: \"))\n",
    "if credit < 630 and credit > 500:\n",
    "    deposit = input(\"Will you be able to put down a $\", Rent, \"deposit? Yes or no only: \")\n",
    "    \n"
   ]
  },
  {
   "cell_type": "code",
   "execution_count": null,
   "id": "518ddd5c",
   "metadata": {},
   "outputs": [],
   "source": [
    "##Ask for any evictions, bankrupticies, or felonies\n",
    "##Deny automatically if any condotions are met\n",
    "print(\"Now we'll ask about your rental/ criminal history\")\n",
    "rental_criminal_history = input(\"Do you have any any evictions, bankrupticies, or felonies? Yes or No only: \")\n",
    "\n"
   ]
  },
  {
   "cell_type": "code",
   "execution_count": null,
   "id": "cc9770b1",
   "metadata": {},
   "outputs": [],
   "source": [
    "##Approval decision\n",
    "Approval = \"Congratulations, You've been approved for your new home!\"\n",
    "\n",
    "# income less than 3 times the rent but cosigner is available,\n",
    "# OR credit is greater than 700\n",
    "# OR they can put down a deposit equal to one month's rent\n",
    "if rental_income < rent:\n",
    "    if credit > 700 and cosigner == 'Yes':\n",
    "        print(Approval)\n",
    "        \n",
    "\n",
    "# income is greater than 3 times the rent and credit is greater than 670\n",
    "if rental_income > rent and credit > 670:\n",
    "    print(Approval)\n",
    "    \n",
    "    \n",
    "# credit is less than 700 but greater than 630\n",
    "# AND income is 3 times or greater than rent\n",
    "if credit < 700 and credit > 630:\n",
    "    if rental_income > rent and deposit == 'Yes':\n",
    "        print(Approval)\n",
    "\n",
    "# income less than 3 times the rent and cosigner IS available,\n",
    "# AND credit is less than 630\n",
    "# AND they can't put down a deposit equal to one month's rent         \n",
    "if rental_income < rent:\n",
    "    if credit < 630 and deposit == 'No' or cosigner == 'Yes':\n",
    "        print(Approval)\n",
    "\n",
    "# Credit is less than 500\n",
    "# BUT there is a cosginer AND deposit\n",
    "if rental_income > rent:\n",
    "    if credit < 500 and deposit == 'Yes' or cosigner == 'Yes':\n",
    "        print(Approval)\n",
    "        "
   ]
  },
  {
   "cell_type": "code",
   "execution_count": null,
   "id": "bedbf658",
   "metadata": {},
   "outputs": [],
   "source": [
    "#Denial decision\n",
    "Denial = \"Unfortunaley, You were not approved for your desired rent.\"\n",
    "suggested_income = \"Unfortunaley, You were not approved for your desired rent, the rent you would be eliglible for is $\", rental_income/3, \".\"\n",
    "\n",
    "# income less than 3 times the rent and no cosigner is available,\n",
    "# AND credit is less than 630\n",
    "# AND they can't put down a deposit equal to one month's rent \n",
    "if rental_income < rent:\n",
    "    if credit < 630 and deposit == 'No' or cosigner == 'No':\n",
    "        print(suggested_income )\n",
    "        \n",
    "        \n",
    "# Credit is less than 500\n",
    "# and deposit and cosginer are NOT available\n",
    "if credit < 500 and deposit == 'No' or cosigner == 'No':\n",
    "    print(Denial)\n",
    "\n",
    "# they have evictions, bankrupticies, or felonies\n",
    "if rental_criminal_history == 'Yes':\n",
    "    print(Denial)\n",
    "\n",
    "\n"
   ]
  },
  {
   "cell_type": "code",
   "execution_count": null,
   "id": "4d4a1455",
   "metadata": {},
   "outputs": [],
   "source": [
    "##Present user with results and reasons for denial\n",
    "##if income caused denial, present their income divided by 3\n",
    "## as suggested rent\n",
    "\n",
    "\n",
    "\n"
   ]
  }
 ],
 "metadata": {
  "kernelspec": {
   "display_name": "Python 3 (ipykernel)",
   "language": "python",
   "name": "python3"
  },
  "language_info": {
   "codemirror_mode": {
    "name": "ipython",
    "version": 3
   },
   "file_extension": ".py",
   "mimetype": "text/x-python",
   "name": "python",
   "nbconvert_exporter": "python",
   "pygments_lexer": "ipython3",
   "version": "3.9.12"
  }
 },
 "nbformat": 4,
 "nbformat_minor": 5
}
