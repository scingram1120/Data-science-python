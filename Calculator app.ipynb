{
 "cells": [
  {
   "cell_type": "code",
   "execution_count": 4,
   "id": "0b92507a",
   "metadata": {},
   "outputs": [
    {
     "name": "stdout",
     "output_type": "stream",
     "text": [
      "Select operation.\n",
      "\t1.Add\n",
      "\t2.Subtract\n",
      "\t3.Multiply\n",
      "\t4.Divide\n",
      "\n",
      "Enter choice(1/2/3/4): 2\n",
      "\tEnter first number: 3\n",
      "\tEnter second number: 9\n",
      "3.0 - 9.0 = -6.0\n",
      "Would you like to try again?\n",
      "Y/N: y\n",
      "Select operation.\n",
      "\t1.Add\n",
      "\t2.Subtract\n",
      "\t3.Multiply\n",
      "\t4.Divide\n",
      "\n",
      "Enter choice(1/2/3/4): 2\n",
      "\tEnter first number: 1\n",
      "\tEnter second number: 2\n",
      "1.0 - 2.0 = -1.0\n",
      "Would you like to try again?\n",
      "Y/N: n\n",
      "Goodbye\n"
     ]
    }
   ],
   "source": [
    "def add(x, y):\n",
    "   return x + y\n",
    "\n",
    "def subtract(x, y):\n",
    "   return x - y\n",
    "\n",
    "def multiply(x, y):\n",
    "   return x * y\n",
    "\n",
    "def divide(x, y):\n",
    "   return x / y\n",
    "\n",
    "def runAgain():\n",
    "    print(\"Would you like to try again?\")\n",
    "    choice = input(\"Y/N: \")\n",
    "    if choice == 'Y' or choice == 'y':\n",
    "        calculator()\n",
    "    \n",
    "    elif choice == 'N' or choice == 'n':\n",
    "        print(\"Goodbye\")\n",
    "    else:\n",
    "        print(\"Invalid input\")\n",
    "\n",
    "def calculator():\n",
    "    print(\"Select operation.\")\n",
    "    print(\"\\t1.Add\")\n",
    "    print(\"\\t2.Subtract\")\n",
    "    print(\"\\t3.Multiply\")\n",
    "    print(\"\\t4.Divide\")\n",
    "\n",
    "    print()\n",
    "    choice = input(\"Enter choice(1/2/3/4): \")\n",
    "\n",
    "    num1 = float(input(\"\\tEnter first number: \"))\n",
    "    num2 = float(input(\"\\tEnter second number: \"))\n",
    "\n",
    "    if choice == '1':\n",
    "        print(num1,\"+\",num2,\"=\", add(num1,num2))\n",
    "        runAgain()\n",
    "\n",
    "    elif choice == '2':\n",
    "        print(num1,\"-\",num2,\"=\", subtract(num1,num2))\n",
    "        runAgain()\n",
    "    elif choice == '3':\n",
    "        print(num1,\"*\",num2,\"=\", multiply(num1,num2))\n",
    "        runAgain()\n",
    "    elif choice == '4':\n",
    "        print(num1,\"/\",num2,\"=\", divide(num1,num2))\n",
    "        runAgain()\n",
    "    else:\n",
    "        print(\"Invalid Input\")\n",
    "        \n",
    "        \n",
    "\n",
    "calculator()"
   ]
  },
  {
   "cell_type": "code",
   "execution_count": null,
   "id": "9000a82b",
   "metadata": {},
   "outputs": [],
   "source": []
  }
 ],
 "metadata": {
  "kernelspec": {
   "display_name": "Python 3 (ipykernel)",
   "language": "python",
   "name": "python3"
  },
  "language_info": {
   "codemirror_mode": {
    "name": "ipython",
    "version": 3
   },
   "file_extension": ".py",
   "mimetype": "text/x-python",
   "name": "python",
   "nbconvert_exporter": "python",
   "pygments_lexer": "ipython3",
   "version": "3.9.12"
  }
 },
 "nbformat": 4,
 "nbformat_minor": 5
}
