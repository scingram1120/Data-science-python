{
 "cells": [
  {
   "cell_type": "code",
   "execution_count": 1,
   "id": "c19a863e",
   "metadata": {},
   "outputs": [],
   "source": [
    "import numpy as n\n",
    "import pandas as pd\n",
    "import matplotlib.pyplot as plt\n",
    "import seaborn as sns\n",
    "import mpl_toolkits\n",
    "%matplotlib inline"
   ]
  },
  {
   "cell_type": "code",
   "execution_count": 2,
   "id": "c4c71d98",
   "metadata": {},
   "outputs": [],
   "source": [
    "rih = pd.read_csv(\"rih.csv\")"
   ]
  },
  {
   "cell_type": "code",
   "execution_count": 4,
   "id": "6139db65",
   "metadata": {},
   "outputs": [
    {
     "data": {
      "text/html": [
       "<div>\n",
       "<style scoped>\n",
       "    .dataframe tbody tr th:only-of-type {\n",
       "        vertical-align: middle;\n",
       "    }\n",
       "\n",
       "    .dataframe tbody tr th {\n",
       "        vertical-align: top;\n",
       "    }\n",
       "\n",
       "    .dataframe thead th {\n",
       "        text-align: right;\n",
       "    }\n",
       "</style>\n",
       "<table border=\"1\" class=\"dataframe\">\n",
       "  <thead>\n",
       "    <tr style=\"text-align: right;\">\n",
       "      <th></th>\n",
       "      <th></th>\n",
       "      <th></th>\n",
       "      <th>Category: All categories</th>\n",
       "    </tr>\n",
       "  </thead>\n",
       "  <tbody>\n",
       "    <tr>\n",
       "      <th>Time</th>\n",
       "      <th>when is rihanna due: (United States)</th>\n",
       "      <th>is rihanna pregnant: (United States)</th>\n",
       "      <td>rihanna: (United States)</td>\n",
       "    </tr>\n",
       "    <tr>\n",
       "      <th>2023-02-12T16:44:00-06:00</th>\n",
       "      <th>&lt;1</th>\n",
       "      <th>&lt;1</th>\n",
       "      <td>1</td>\n",
       "    </tr>\n",
       "    <tr>\n",
       "      <th>2023-02-12T16:45:00-06:00</th>\n",
       "      <th>&lt;1</th>\n",
       "      <th>&lt;1</th>\n",
       "      <td>1</td>\n",
       "    </tr>\n",
       "    <tr>\n",
       "      <th>2023-02-12T16:46:00-06:00</th>\n",
       "      <th>&lt;1</th>\n",
       "      <th>&lt;1</th>\n",
       "      <td>1</td>\n",
       "    </tr>\n",
       "    <tr>\n",
       "      <th>2023-02-12T16:47:00-06:00</th>\n",
       "      <th>0</th>\n",
       "      <th>0</th>\n",
       "      <td>1</td>\n",
       "    </tr>\n",
       "    <tr>\n",
       "      <th>...</th>\n",
       "      <th>...</th>\n",
       "      <th>...</th>\n",
       "      <td>...</td>\n",
       "    </tr>\n",
       "    <tr>\n",
       "      <th>2023-02-12T20:39:00-06:00</th>\n",
       "      <th>&lt;1</th>\n",
       "      <th>2</th>\n",
       "      <td>10</td>\n",
       "    </tr>\n",
       "    <tr>\n",
       "      <th>2023-02-12T20:40:00-06:00</th>\n",
       "      <th>&lt;1</th>\n",
       "      <th>2</th>\n",
       "      <td>9</td>\n",
       "    </tr>\n",
       "    <tr>\n",
       "      <th>2023-02-12T20:41:00-06:00</th>\n",
       "      <th>&lt;1</th>\n",
       "      <th>2</th>\n",
       "      <td>9</td>\n",
       "    </tr>\n",
       "    <tr>\n",
       "      <th>2023-02-12T20:42:00-06:00</th>\n",
       "      <th>&lt;1</th>\n",
       "      <th>2</th>\n",
       "      <td>9</td>\n",
       "    </tr>\n",
       "    <tr>\n",
       "      <th>2023-02-12T20:43:00-06:00</th>\n",
       "      <th>&lt;1</th>\n",
       "      <th>2</th>\n",
       "      <td>8</td>\n",
       "    </tr>\n",
       "  </tbody>\n",
       "</table>\n",
       "<p>241 rows × 1 columns</p>\n",
       "</div>"
      ],
      "text/plain": [
       "                                                                                                     Category: All categories\n",
       "Time                      when is rihanna due: (United States) is rihanna pregnant: (United States)  rihanna: (United States)\n",
       "2023-02-12T16:44:00-06:00 <1                                   <1                                                           1\n",
       "2023-02-12T16:45:00-06:00 <1                                   <1                                                           1\n",
       "2023-02-12T16:46:00-06:00 <1                                   <1                                                           1\n",
       "2023-02-12T16:47:00-06:00 0                                    0                                                            1\n",
       "...                                                                                                                       ...\n",
       "2023-02-12T20:39:00-06:00 <1                                   2                                                           10\n",
       "2023-02-12T20:40:00-06:00 <1                                   2                                                            9\n",
       "2023-02-12T20:41:00-06:00 <1                                   2                                                            9\n",
       "2023-02-12T20:42:00-06:00 <1                                   2                                                            9\n",
       "2023-02-12T20:43:00-06:00 <1                                   2                                                            8\n",
       "\n",
       "[241 rows x 1 columns]"
      ]
     },
     "execution_count": 4,
     "metadata": {},
     "output_type": "execute_result"
    }
   ],
   "source": [
    "rih"
   ]
  },
  {
   "cell_type": "code",
   "execution_count": 5,
   "id": "90205d09",
   "metadata": {},
   "outputs": [
    {
     "ename": "NameError",
     "evalue": "name 'mean' is not defined",
     "output_type": "error",
     "traceback": [
      "\u001b[0;31m---------------------------------------------------------------------------\u001b[0m",
      "\u001b[0;31mNameError\u001b[0m                                 Traceback (most recent call last)",
      "Input \u001b[0;32mIn [5]\u001b[0m, in \u001b[0;36m<cell line: 1>\u001b[0;34m()\u001b[0m\n\u001b[0;32m----> 1\u001b[0m \u001b[43mmean\u001b[49m(rih)\n",
      "\u001b[0;31mNameError\u001b[0m: name 'mean' is not defined"
     ]
    }
   ],
   "source": []
  },
  {
   "cell_type": "code",
   "execution_count": null,
   "id": "01a1139f",
   "metadata": {},
   "outputs": [],
   "source": []
  }
 ],
 "metadata": {
  "kernelspec": {
   "display_name": "Python 3 (ipykernel)",
   "language": "python",
   "name": "python3"
  },
  "language_info": {
   "codemirror_mode": {
    "name": "ipython",
    "version": 3
   },
   "file_extension": ".py",
   "mimetype": "text/x-python",
   "name": "python",
   "nbconvert_exporter": "python",
   "pygments_lexer": "ipython3",
   "version": "3.9.12"
  }
 },
 "nbformat": 4,
 "nbformat_minor": 5
}
