{
 "cells": [
  {
   "cell_type": "code",
   "execution_count": null,
   "id": "29ef7061",
   "metadata": {},
   "outputs": [],
   "source": [
    "\n",
    "def begin():\n",
    "    print(\"ALBUM RANKING SYSTEM\")\n",
    "    print(\"Enter your artist and their albums. Then enter how many of your favorite songs are on the album.\")\n",
    "    print(\"The albums will then print with the best one (one with the most favorite songs) first\")\n",
    "    print(\"Let's begin!\")\n",
    "    print()\n",
    "\n",
    "def collectInfo():\n",
    "    artist = input(\"\\tWhat's the artist's name? \")\n",
    "    print()\n",
    "    print(\"Albums\")\n",
    "\n",
    "    count = 0\n",
    "    Albums = {}\n",
    "    while True:\n",
    "        album = input(\"\\tEnter name of the album: \")\n",
    "        fav = input(\"\\tHow many favorites are on this album? \")\n",
    "        Albums[album] = int(fav)\n",
    "        count += 1\n",
    "        if count % 3 and count > 1:\n",
    "            ask = input(\"Do you wish to continue? \")\n",
    "            if ask == 'yes':\n",
    "                continue\n",
    "            elif ask == \"no\":\n",
    "                print(\"You entered\",count,\"albums.\")\n",
    "                print(\"Let's begin calculations\")\n",
    "                break\n",
    "\n",
    "    print(\"These are your albums:\")\n",
    "    print(\"\\t\",Albums)\n",
    "\n",
    "\n",
    "    # Sorting dictionary\n",
    "    sorted_Albums = sorted([(value, key)\n",
    "     for (key, value) in Albums.items()])\n",
    "     \n",
    "    # Print sorted dictionary\n",
    "    print(\"Album ranking for\",artist,\":\")\n",
    "    print(\"\\t\",sorted_Albums)\n",
    "\n",
    "def end():\n",
    "    print(\"That was fun!!\")\n",
    "    answer = input(\"Would you like another go around the merry go round? \")\n",
    "    if answer == 'yes':\n",
    "        begin()\n",
    "        collectInfo()\n",
    "        end()\n",
    "    else:\n",
    "        print(\"Goodbye!\")\n",
    "\n",
    "\n",
    "begin()\n",
    "collectInfo()\n",
    "end()\n"
   ]
  }
 ],
 "metadata": {
  "kernelspec": {
   "display_name": "Python 3 (ipykernel)",
   "language": "python",
   "name": "python3"
  },
  "language_info": {
   "codemirror_mode": {
    "name": "ipython",
    "version": 3
   },
   "file_extension": ".py",
   "mimetype": "text/x-python",
   "name": "python",
   "nbconvert_exporter": "python",
   "pygments_lexer": "ipython3",
   "version": "3.9.12"
  }
 },
 "nbformat": 4,
 "nbformat_minor": 5
}
